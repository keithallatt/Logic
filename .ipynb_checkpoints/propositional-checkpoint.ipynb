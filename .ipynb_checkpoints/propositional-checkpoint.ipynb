{
 "cells": [
  {
   "cell_type": "markdown",
   "metadata": {},
   "source": [
    "# Propositional Logic\n",
    "\n",
    "## Atomic Propositions and Logical Connectives\n",
    "\n",
    "To create atoms and propositional statements, use the `parse_logical` method. For ease of use, create an alias `PL` and supply a string."
   ]
  },
  {
   "cell_type": "code",
   "execution_count": 5,
   "metadata": {},
   "outputs": [
    {
     "name": "stdout",
     "output_type": "stream",
     "text": [
      "[A, (A → B), ((A ∨ B) ∧ ¬(A ∧ B)), (((A → B) ∧ (B → C)) → (A → C))]\n"
     ]
    }
   ],
   "source": [
    "from Propositional.logical import *\n",
    "\n",
    "PL = parse_logical\n",
    "\n",
    "# create some propositions.\n",
    "props = [\n",
    "    PL(\"A\"),\n",
    "    PL(\"A implies B\"),\n",
    "    PL(\"(A or B) and (not (A and B))\"),\n",
    "    PL(\"((A implies B) and (B implies C)) implies (A implies C)\")\n",
    "]\n",
    "\n",
    "print(props, sep=\"\\n\")\n"
   ]
  },
  {
   "cell_type": "markdown",
   "metadata": {},
   "source": [
    "## Evaluating logical propositions\n",
    "\n",
    "To associate truth values to atoms in propositions that were pre-built using `parse_logical`, use the `set_atom_truth_values` method on each connective. To evaluate the truth value of the proposition, use the `evaluate` function."
   ]
  },
  {
   "cell_type": "code",
   "execution_count": 6,
   "metadata": {},
   "outputs": [
    {
     "name": "stdout",
     "output_type": "stream",
     "text": [
      "¬A;\t¬B;\t¬C;\t\t|\tA -> F;\t\t(A → B) -> T;\t\t((A ∨ B) ∧ ¬(A ∧ B)) -> F;\t\t(((A → B) ∧ (B → C)) → (A → C)) -> T\n",
      " A;\t¬B;\t¬C;\t\t|\tA -> T;\t\t(A → B) -> F;\t\t((A ∨ B) ∧ ¬(A ∧ B)) -> T;\t\t(((A → B) ∧ (B → C)) → (A → C)) -> T\n",
      "¬A;\t B;\t¬C;\t\t|\tA -> F;\t\t(A → B) -> T;\t\t((A ∨ B) ∧ ¬(A ∧ B)) -> T;\t\t(((A → B) ∧ (B → C)) → (A → C)) -> T\n",
      " A;\t B;\t¬C;\t\t|\tA -> T;\t\t(A → B) -> T;\t\t((A ∨ B) ∧ ¬(A ∧ B)) -> F;\t\t(((A → B) ∧ (B → C)) → (A → C)) -> T\n",
      "¬A;\t¬B;\t C;\t\t|\tA -> F;\t\t(A → B) -> T;\t\t((A ∨ B) ∧ ¬(A ∧ B)) -> F;\t\t(((A → B) ∧ (B → C)) → (A → C)) -> T\n",
      " A;\t¬B;\t C;\t\t|\tA -> T;\t\t(A → B) -> F;\t\t((A ∨ B) ∧ ¬(A ∧ B)) -> T;\t\t(((A → B) ∧ (B → C)) → (A → C)) -> T\n",
      "¬A;\t B;\t C;\t\t|\tA -> F;\t\t(A → B) -> T;\t\t((A ∨ B) ∧ ¬(A ∧ B)) -> T;\t\t(((A → B) ∧ (B → C)) → (A → C)) -> T\n",
      " A;\t B;\t C;\t\t|\tA -> T;\t\t(A → B) -> T;\t\t((A ∨ B) ∧ ¬(A ∧ B)) -> F;\t\t(((A → B) ∧ (B → C)) → (A → C)) -> T\n"
     ]
    }
   ],
   "source": [
    "from Propositional.logical import *\n",
    "\n",
    "PL = parse_logical\n",
    "\n",
    "atoms = []\n",
    "\n",
    "for prop in props:\n",
    "    if type(prop) is Atom:\n",
    "        atoms.append(prop)\n",
    "    else:\n",
    "        prop: LogicalConnective\n",
    "        atoms += prop.atoms_contained()\n",
    "\n",
    "atoms = sorted(list(set(atoms)))\n",
    "\n",
    "num_atoms = len(atoms)\n",
    "\n",
    "for i in range(2 ** num_atoms):\n",
    "    truth_values = [\n",
    "        i & 1 << a != 0 for a in range(num_atoms)\n",
    "    ]\n",
    "    \n",
    "    atom_truths = \";\\t\".join([\n",
    "        \" \" + str(atoms[i]) if truth_values[i] else str(LogicalNot(atoms[i]))\n",
    "        for i in range(num_atoms)\n",
    "    ] + [\"\"])\n",
    "    \n",
    "    context = {\n",
    "        atom: truth_value for atom, truth_value in zip(atoms, truth_values)\n",
    "    }\n",
    "    \n",
    "    for prop in props:\n",
    "        # set proposition truth values.\n",
    "        prop.set_atom_truth_values(context)\n",
    "            \n",
    "    prop_truths =  \";\\t\\t\".join([\n",
    "        str(prop) + \" -> \" + str(prop.evaluate())[0]\n",
    "        for prop in props\n",
    "    ])\n",
    "    \n",
    "    \n",
    "    print(atom_truths, prop_truths, sep=\"\\t|\\t\")\n",
    "    \n",
    "\n",
    "    "
   ]
  },
  {
   "cell_type": "markdown",
   "metadata": {},
   "source": [
    "## Using atoms directly\n",
    "\n",
    "If more control is desired, we can define a set of atoms first and construct them "
   ]
  },
  {
   "cell_type": "code",
   "execution_count": 14,
   "metadata": {},
   "outputs": [
    {
     "name": "stdout",
     "output_type": "stream",
     "text": [
      "A\n",
      "(A → B)\n",
      "((A ∨ B) ∧ ¬(A ∧ B))\n",
      "(((A → B) ∧ (B → C)) → (A → C))\n",
      "-------\n",
      "A\n",
      "(A → B)\n",
      "((A ∨ B) ∧ ¬(A ∧ B))\n",
      "(((A → B) ∧ (B → C)) → (A → C))\n",
      "-------\n",
      "¬A;\t¬B;\t¬C;\t|\tA -> F;\t\t(A → B) -> T;\t\t((A ∨ B) ∧ ¬(A ∧ B)) -> F;\t\t(((A → B) ∧ (B → C)) → (A → C)) -> T\t|\tTrue\n",
      " A;\t¬B;\t¬C;\t|\tA -> T;\t\t(A → B) -> F;\t\t((A ∨ B) ∧ ¬(A ∧ B)) -> T;\t\t(((A → B) ∧ (B → C)) → (A → C)) -> T\t|\tTrue\n",
      "¬A;\t B;\t¬C;\t|\tA -> F;\t\t(A → B) -> T;\t\t((A ∨ B) ∧ ¬(A ∧ B)) -> T;\t\t(((A → B) ∧ (B → C)) → (A → C)) -> T\t|\tTrue\n",
      " A;\t B;\t¬C;\t|\tA -> T;\t\t(A → B) -> T;\t\t((A ∨ B) ∧ ¬(A ∧ B)) -> F;\t\t(((A → B) ∧ (B → C)) → (A → C)) -> T\t|\tTrue\n",
      "¬A;\t¬B;\t C;\t|\tA -> F;\t\t(A → B) -> T;\t\t((A ∨ B) ∧ ¬(A ∧ B)) -> F;\t\t(((A → B) ∧ (B → C)) → (A → C)) -> T\t|\tTrue\n",
      " A;\t¬B;\t C;\t|\tA -> T;\t\t(A → B) -> F;\t\t((A ∨ B) ∧ ¬(A ∧ B)) -> T;\t\t(((A → B) ∧ (B → C)) → (A → C)) -> T\t|\tTrue\n",
      "¬A;\t B;\t C;\t|\tA -> F;\t\t(A → B) -> T;\t\t((A ∨ B) ∧ ¬(A ∧ B)) -> T;\t\t(((A → B) ∧ (B → C)) → (A → C)) -> T\t|\tTrue\n",
      " A;\t B;\t C;\t|\tA -> T;\t\t(A → B) -> T;\t\t((A ∨ B) ∧ ¬(A ∧ B)) -> F;\t\t(((A → B) ∧ (B → C)) → (A → C)) -> T\t|\tTrue\n"
     ]
    }
   ],
   "source": [
    "from Propositional.logical import *\n",
    "\n",
    "PL = parse_logical\n",
    "\n",
    "\n",
    "atomics = [Atom(chr(i)) for i in range(ord(\"A\"), ord(\"C\") + 1)]\n",
    "a, b, c = atomics\n",
    "\n",
    "props_non_atomic = [\n",
    "    PL(\"A\"),\n",
    "    PL(\"A implies B\"),\n",
    "    PL(\"(A or B) and (not (A and B))\"),\n",
    "    PL(\"((A implies B) and (B implies C)) implies (A implies C)\")\n",
    "]\n",
    "\n",
    "props_atomics = [\n",
    "    a,\n",
    "    LogicalImplies(a, b),\n",
    "    LogicalAnd(LogicalOr(a, b), LogicalNot(LogicalAnd(a, b))),\n",
    "    LogicalImplies(\n",
    "        LogicalAnd(LogicalImplies(a, b), LogicalImplies(b, c)),\n",
    "        LogicalImplies(a, c)\n",
    "    )\n",
    "]\n",
    "\n",
    "print(*props_non_atomic, sep=\"\\n\")\n",
    "print('-------')\n",
    "print(*props_atomics, sep=\"\\n\")\n",
    "\n",
    "print('-------')\n",
    "\n",
    "num_atoms = len(atomics)\n",
    "\n",
    "for i in range(2 ** num_atoms):\n",
    "    truth_values = [\n",
    "        i & 1 << a != 0 for a in range(num_atoms)\n",
    "    ]\n",
    "    \n",
    "    atom_truths = \";\\t\".join([\n",
    "        \" \" + str(atomics[i]) if truth_values[i] else str(LogicalNot(atomics[i]))\n",
    "        for i in range(num_atoms)\n",
    "    ] + [\"\"])\n",
    "    \n",
    "    for atom, truth_value in zip(atomics, truth_values):\n",
    "        atom.truth_value = truth_value\n",
    "            \n",
    "    prop_truths =  \";\\t\\t\".join([\n",
    "        str(prop) + \" -> \" + str(prop.evaluate())[0]\n",
    "        for prop in props_atomics\n",
    "    ])\n",
    "    \n",
    "    \n",
    "    prop_equivs =  [\n",
    "        prop_a == prop_na\n",
    "        for prop_a, prop_na in zip(props_atomics, props_non_atomic)\n",
    "    ]\n",
    "    \n",
    "    print(atom_truths.rstrip(), prop_truths.strip(), False not in prop_equivs, sep=\"\\t|\\t\")\n"
   ]
  },
  {
   "cell_type": "code",
   "execution_count": 2,
   "metadata": {},
   "outputs": [],
   "source": [
    "from Propositional.logical import *\n",
    "\n",
    "\n",
    "\n"
   ]
  },
  {
   "cell_type": "code",
   "execution_count": null,
   "metadata": {},
   "outputs": [],
   "source": []
  }
 ],
 "metadata": {
  "kernelspec": {
   "display_name": "Python 3",
   "language": "python",
   "name": "python3"
  },
  "language_info": {
   "codemirror_mode": {
    "name": "ipython",
    "version": 3
   },
   "file_extension": ".py",
   "mimetype": "text/x-python",
   "name": "python",
   "nbconvert_exporter": "python",
   "pygments_lexer": "ipython3",
   "version": "3.8.1"
  }
 },
 "nbformat": 4,
 "nbformat_minor": 4
}
