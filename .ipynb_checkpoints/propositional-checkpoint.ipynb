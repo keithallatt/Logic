{
 "cells": [
  {
   "cell_type": "markdown",
   "metadata": {},
   "source": [
    "# Propositional Logic\n",
    "\n",
    "## Atomic Propositions and Logical Connectives\n",
    "\n",
    "To create atoms and propositional statements, use the `parse_logical` method. For ease of use, create an alias `PL` and supply a string."
   ]
  },
  {
   "cell_type": "code",
   "execution_count": 1,
   "metadata": {},
   "outputs": [
    {
     "name": "stdout",
     "output_type": "stream",
     "text": [
      "[A, (A → B), ((A ∨ B) ∧ ¬(A ∧ B))]\n"
     ]
    }
   ],
   "source": [
    "from Propositional.logical import *\n",
    "\n",
    "PL = parse_logical\n",
    "\n",
    "# create some propositions.\n",
    "props = [\n",
    "    PL(\"A\"),\n",
    "    PL(\"A implies B\"),\n",
    "    PL(\"(A or B) and (not (A and B))\")\n",
    "]\n",
    "\n",
    "print(props, sep=\"\\n\")\n"
   ]
  },
  {
   "cell_type": "markdown",
   "metadata": {},
   "source": [
    "## Evaluating logical propositions\n",
    "\n",
    "To associate truth values to atoms in propositions that were pre-built using `parse_logical`, use the `set_atom_truth_values` method on each connective. To evaluate the truth value of the proposition, use the `evaluate` function."
   ]
  },
  {
   "cell_type": "code",
   "execution_count": 2,
   "metadata": {},
   "outputs": [
    {
     "name": "stdout",
     "output_type": "stream",
     "text": [
      "¬A;\t¬B;\t\t|\tA -> F;\t\t(A → B) -> T;\t\t((A ∨ B) ∧ ¬(A ∧ B)) -> F\n",
      " A;\t¬B;\t\t|\tA -> T;\t\t(A → B) -> F;\t\t((A ∨ B) ∧ ¬(A ∧ B)) -> T\n",
      "¬A;\t B;\t\t|\tA -> F;\t\t(A → B) -> T;\t\t((A ∨ B) ∧ ¬(A ∧ B)) -> T\n",
      " A;\t B;\t\t|\tA -> T;\t\t(A → B) -> T;\t\t((A ∨ B) ∧ ¬(A ∧ B)) -> F\n"
     ]
    }
   ],
   "source": [
    "from Propositional.logical import *\n",
    "\n",
    "PL = parse_logical\n",
    "\n",
    "atoms = []\n",
    "\n",
    "for prop in props:\n",
    "    if type(prop) is Atom:\n",
    "        atoms.append(prop)\n",
    "    else:\n",
    "        prop: LogicalConnective\n",
    "        atoms += prop.atoms_contained()\n",
    "\n",
    "atoms = sorted(list(set(atoms)))\n",
    "\n",
    "num_atoms = len(atoms)\n",
    "\n",
    "for i in range(2 ** num_atoms):\n",
    "    truth_values = [\n",
    "        i & 1 << a != 0 for a in range(num_atoms)\n",
    "    ]\n",
    "    \n",
    "    atom_truths = \";\\t\".join([\n",
    "        \" \" + str(atoms[i]) if truth_values[i] else str(LogicalNot(atoms[i]))\n",
    "        for i in range(num_atoms)\n",
    "    ] + [\"\"])\n",
    "    \n",
    "    context = {\n",
    "        atom: truth_value for atom, truth_value in zip(atoms, truth_values)\n",
    "    }\n",
    "    \n",
    "    for prop in props:\n",
    "        # set proposition truth values.\n",
    "        prop.set_atom_truth_values(context)\n",
    "            \n",
    "    prop_truths =  \";\\t\\t\".join([\n",
    "        str(prop) + \" -> \" + str(prop.evaluate())[0]\n",
    "        for prop in props\n",
    "    ])\n",
    "    \n",
    "    \n",
    "    print(atom_truths, prop_truths, sep=\"\\t|\\t\")\n",
    "    \n",
    "\n",
    "    "
   ]
  },
  {
   "cell_type": "markdown",
   "metadata": {},
   "source": [
    "## Using atoms directly\n",
    "\n",
    "If more control is desired, we can define a set of atoms first and construct them "
   ]
  },
  {
   "cell_type": "code",
   "execution_count": 6,
   "metadata": {},
   "outputs": [
    {
     "name": "stdout",
     "output_type": "stream",
     "text": [
      "A\n",
      "(A → B)\n",
      "((A ∨ B) ∧ ¬(A ∧ B))\n",
      "-------\n",
      "A\n",
      "(A → B)\n",
      "((A ∨ B) ∧ ¬(A ∧ B))\n",
      "-------\n",
      "¬A;\t¬B;\t¬C;\t|\tA -> F;\t\t(A → B) -> T;\t\t((A ∨ B) ∧ ¬(A ∧ B)) -> F\n",
      " A;\t¬B;\t¬C;\t|\tA -> T;\t\t(A → B) -> F;\t\t((A ∨ B) ∧ ¬(A ∧ B)) -> T\n",
      "¬A;\t B;\t¬C;\t|\tA -> F;\t\t(A → B) -> T;\t\t((A ∨ B) ∧ ¬(A ∧ B)) -> T\n",
      " A;\t B;\t¬C;\t|\tA -> T;\t\t(A → B) -> T;\t\t((A ∨ B) ∧ ¬(A ∧ B)) -> F\n",
      "¬A;\t¬B;\t C;\t|\tA -> F;\t\t(A → B) -> T;\t\t((A ∨ B) ∧ ¬(A ∧ B)) -> F\n",
      " A;\t¬B;\t C;\t|\tA -> T;\t\t(A → B) -> F;\t\t((A ∨ B) ∧ ¬(A ∧ B)) -> T\n",
      "¬A;\t B;\t C;\t|\tA -> F;\t\t(A → B) -> T;\t\t((A ∨ B) ∧ ¬(A ∧ B)) -> T\n",
      " A;\t B;\t C;\t|\tA -> T;\t\t(A → B) -> T;\t\t((A ∨ B) ∧ ¬(A ∧ B)) -> F\n",
      "Propositions equivalent\n"
     ]
    }
   ],
   "source": [
    "from Propositional.logical import *\n",
    "\n",
    "PL = parse_logical\n",
    "\n",
    "\n",
    "atomics = [Atom(chr(i)) for i in range(ord(\"A\"), ord(\"C\") + 1)]\n",
    "a, b, c = atomics\n",
    "\n",
    "props_non_atomic = [\n",
    "    PL(\"A\"),\n",
    "    PL(\"A implies B\"),\n",
    "    PL(\"(A or B) and (not (A and B))\"),\n",
    "]\n",
    "\n",
    "props_atomics = [\n",
    "    a,\n",
    "    LogicalImplies(a, b),\n",
    "    LogicalAnd(LogicalOr(a, b), LogicalNot(LogicalAnd(a, b)))\n",
    "]\n",
    "\n",
    "print(*props_non_atomic, sep=\"\\n\")\n",
    "print('-------')\n",
    "print(*props_atomics, sep=\"\\n\")\n",
    "\n",
    "print('-------')\n",
    "\n",
    "num_atoms = len(atomics)\n",
    "\n",
    "\n",
    "props_equiv = True\n",
    "\n",
    "\n",
    "for i in range(2 ** num_atoms):\n",
    "    truth_values = [\n",
    "        i & 1 << a != 0 for a in range(num_atoms)\n",
    "    ]\n",
    "    \n",
    "    atom_truths = \";\\t\".join([\n",
    "        \" \" + str(atomics[i]) if truth_values[i] else str(LogicalNot(atomics[i]))\n",
    "        for i in range(num_atoms)\n",
    "    ] + [\"\"])\n",
    "    \n",
    "    for atom, truth_value in zip(atomics, truth_values):\n",
    "        atom.truth_value = truth_value\n",
    "            \n",
    "    prop_truths =  \";\\t\\t\".join([\n",
    "        str(prop) + \" -> \" + str(prop.evaluate())[0]\n",
    "        for prop in props_atomics\n",
    "    ])\n",
    "    \n",
    "    \n",
    "    prop_equivs =  [\n",
    "        prop_a == prop_na\n",
    "        for prop_a, prop_na in zip(props_atomics, props_non_atomic)\n",
    "    ]\n",
    "    \n",
    "    props_equiv = props_equiv and False not in prop_equivs\n",
    "    \n",
    "    print(atom_truths.rstrip(), prop_truths.strip(), \n",
    "          sep=\"\\t|\\t\")\n",
    "    \n",
    "    \n",
    "    \n",
    "print(\"Propositions equivalent\" if props_equiv else \"Propositions not equivalent\")    \n"
   ]
  },
  {
   "cell_type": "markdown",
   "metadata": {},
   "source": [
    "## Basic Arguments\n",
    "\n",
    "There are a number of basic arguments that need no derivation. For example, there is an argument called 'Modus Ponens' which encapsulates the idea of \"if p then q; p; therefore q\". \n",
    "\n",
    "To use this argument, we do the following.\n",
    "\n",
    "\n"
   ]
  },
  {
   "cell_type": "code",
   "execution_count": 15,
   "metadata": {},
   "outputs": [
    {
     "name": "stdout",
     "output_type": "stream",
     "text": [
      "p;           (A → B)\n",
      "q;           (C ∨ D)\n",
      "If p then q; ((A → B) → (C ∨ D))\n",
      "Modus Ponens is applicable\n",
      "Modus Ponens gives (C ∨ D)\n",
      "Q is application: True\n"
     ]
    }
   ],
   "source": [
    "from Propositional.arguments import *\n",
    "\n",
    "PL = parse_logical\n",
    "\n",
    "p = PL(\"A implies B\")\n",
    "q = PL(\"C or D\")\n",
    "\n",
    "if_p = p >> q\n",
    "\n",
    "print(\"p;          \", p)\n",
    "print(\"q;          \", q)\n",
    "print(\"If p then q;\", if_p)\n",
    "\n",
    "mp = ModusPonens(if_p, p)\n",
    "\n",
    "print(\"Modus Ponens\", \"is\" if mp.is_applicable() else \"isn't\", \"applicable\")\n",
    "\n",
    "application = mp.apply()\n",
    "\n",
    "print(\"Modus Ponens gives\", application)\n",
    "print(\"Q is application:\", application == q)\n",
    "\n"
   ]
  },
  {
   "cell_type": "code",
   "execution_count": 18,
   "metadata": {},
   "outputs": [
    {
     "name": "stdout",
     "output_type": "stream",
     "text": [
      "p;           (A → B)\n",
      "not q;       ¬(C ∨ D)\n",
      "If p then q; ((A → B) → (C ∨ D))\n",
      "Modus Tollens is applicable\n",
      "Modus Tollens gives ¬(A → B)\n",
      "not P is application: True\n"
     ]
    }
   ],
   "source": [
    "from Propositional.arguments import *\n",
    "\n",
    "PL = parse_logical\n",
    "\n",
    "p = PL(\"A implies B\")\n",
    "q = PL(\"C or D\")\n",
    "\n",
    "if_p = p >> q\n",
    "not_q = ~ q\n",
    "\n",
    "print(\"p;          \", p)\n",
    "print(\"not q;      \", not_q)\n",
    "print(\"If p then q;\", if_p)\n",
    "\n",
    "mt = ModusTollens(if_p, not_q)\n",
    "\n",
    "print(\"Modus Tollens\", \"is\" if mt.is_applicable() else \"isn't\", \"applicable\")\n",
    "\n",
    "application = mt.apply()\n",
    "\n",
    "print(\"Modus Tollens gives\", application)\n",
    "print(\"not P is application:\", application == ~p)\n",
    "\n",
    "\n"
   ]
  },
  {
   "cell_type": "code",
   "execution_count": null,
   "metadata": {},
   "outputs": [],
   "source": []
  }
 ],
 "metadata": {
  "kernelspec": {
   "display_name": "Python 3",
   "language": "python",
   "name": "python3"
  },
  "language_info": {
   "codemirror_mode": {
    "name": "ipython",
    "version": 3
   },
   "file_extension": ".py",
   "mimetype": "text/x-python",
   "name": "python",
   "nbconvert_exporter": "python",
   "pygments_lexer": "ipython3",
   "version": "3.9.0"
  }
 },
 "nbformat": 4,
 "nbformat_minor": 4
}
