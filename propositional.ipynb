{
 "cells": [
  {
   "cell_type": "markdown",
   "metadata": {},
   "source": [
    "# Propositional Logic\n",
    "\n",
    "## Atomic Propositions and Logical Connectives\n",
    "\n",
    "To create atoms and propositional statements, use the `parse_logical` method. For ease of use, create an alias `PL` and supply a string."
   ]
  },
  {
   "cell_type": "code",
   "execution_count": 1,
   "metadata": {},
   "outputs": [
    {
     "output_type": "stream",
     "name": "stdout",
     "text": [
      "[A, (A → B), ((A ∨ B) ∧ ¬(A ∧ B)), (A ↔ B)]\n"
     ]
    }
   ],
   "source": [
    "from Propositional.logical import *\n",
    "\n",
    "PL = parse_logical\n",
    "\n",
    "# create some propositions.\n",
    "props = [\n",
    "    PL(\"A\"),\n",
    "    PL(\"A implies B\"),\n",
    "    PL(\"(A or B) and (not (A and B))\"),\n",
    "    PL(\"A iff B\")\n",
    "]\n",
    "\n",
    "print(props, sep=\"\\n\")\n"
   ]
  },
  {
   "cell_type": "markdown",
   "metadata": {},
   "source": [
    "Alternatively, we can start with a set of atoms and combine them after the fact."
   ]
  },
  {
   "cell_type": "code",
   "execution_count": 2,
   "metadata": {},
   "outputs": [
    {
     "output_type": "stream",
     "name": "stdout",
     "text": [
      "[A, (A → B), ((A ∨ B) ∧ ¬(A ∧ B)), (A ↔ B)]\n"
     ]
    }
   ],
   "source": [
    "from Propositional.logical import *\n",
    "\n",
    "PL = parse_logical\n",
    "\n",
    "# create three atoms: a, b, and c.\n",
    "a, b, c = [Atom(chr(ord(\"A\")+i)) for i in range(3)]\n",
    "\n",
    "props = [\n",
    "    a,\n",
    "    a >> b,\n",
    "    (a | b) & (~(a & b)),\n",
    "    a ^ b\n",
    "]\n",
    "\n",
    "print(props, sep=\"\\n\")\n"
   ]
  },
  {
   "cell_type": "markdown",
   "metadata": {},
   "source": [
    "## Evaluating logical propositions\n",
    "\n",
    "To associate truth values to atoms in propositions that were pre-built using `parse_logical`, use the `set_atom_truth_values` method on each connective. To evaluate the truth value of the proposition, use the `bool` built-in function."
   ]
  },
  {
   "cell_type": "code",
   "execution_count": 3,
   "metadata": {},
   "outputs": [
    {
     "output_type": "stream",
     "name": "stdout",
     "text": [
      "¬A;\t¬B;\t\t|\tA -> F;\t\t(A → B) -> T;\t\t((A ∨ B) ∧ ¬(A ∧ B)) -> F;\t\t(A ↔ B) -> T\n A;\t¬B;\t\t|\tA -> T;\t\t(A → B) -> F;\t\t((A ∨ B) ∧ ¬(A ∧ B)) -> T;\t\t(A ↔ B) -> F\n¬A;\t B;\t\t|\tA -> F;\t\t(A → B) -> T;\t\t((A ∨ B) ∧ ¬(A ∧ B)) -> T;\t\t(A ↔ B) -> F\n A;\t B;\t\t|\tA -> T;\t\t(A → B) -> T;\t\t((A ∨ B) ∧ ¬(A ∧ B)) -> F;\t\t(A ↔ B) -> T\n"
     ]
    }
   ],
   "source": [
    "from Propositional.logical import *\n",
    "\n",
    "PL = parse_logical\n",
    "\n",
    "atoms = []\n",
    "\n",
    "for prop in props:\n",
    "    atoms += prop.atoms_contained()\n",
    "\n",
    "atoms = sorted(list(set(atoms)))\n",
    "\n",
    "num_atoms = len(atoms)\n",
    "\n",
    "for i in range(2 ** num_atoms):\n",
    "    truth_values = [\n",
    "        i & 1 << a != 0 for a in range(num_atoms)\n",
    "    ]\n",
    "    \n",
    "    atom_truths = \";\\t\".join([\n",
    "        \" \" + str(atoms[i]) if truth_values[i] else str(~atoms[i])\n",
    "        for i in range(num_atoms)\n",
    "    ] + [\"\"])\n",
    "    \n",
    "    context = {\n",
    "        atom: truth_value for atom, truth_value in zip(atoms, truth_values)\n",
    "    }\n",
    "    \n",
    "    for prop in props:\n",
    "        # set proposition truth values.\n",
    "        prop.set_atom_truth_values(context)\n",
    "            \n",
    "    prop_truths =  \";\\t\\t\".join([\n",
    "        str(prop) + \" -> \" + str(bool(prop))[0]\n",
    "        for prop in props\n",
    "    ])\n",
    "    \n",
    "    \n",
    "    print(atom_truths, prop_truths, sep=\"\\t|\\t\")\n",
    "    \n",
    "\n",
    "    "
   ]
  },
  {
   "cell_type": "markdown",
   "metadata": {},
   "source": [
    "## Basic Arguments\n",
    "\n",
    "There are a number of basic arguments that need no derivation. For example, there is an argument called 'Modus Ponens' which encapsulates the idea of \"if p then q; p; therefore q\". \n",
    "\n",
    "To use this argument, we do the following.\n",
    "\n",
    "\n"
   ]
  },
  {
   "cell_type": "code",
   "execution_count": 4,
   "metadata": {},
   "outputs": [
    {
     "output_type": "stream",
     "name": "stdout",
     "text": [
      "p;           (A → B)\nq;           A\nIf p then q; ((A → B) → A)\nModus Ponens is applicable\nModus Ponens gives A\nQ is application: True\n"
     ]
    }
   ],
   "source": [
    "from Propositional.arguments import *\n",
    "\n",
    "PL = parse_logical\n",
    "\n",
    "p = PL(\"A implies B\")\n",
    "q = PL(\"A\")\n",
    "\n",
    "if_p = p >> q\n",
    "\n",
    "print(\"p;          \", p)\n",
    "print(\"q;          \", q)\n",
    "print(\"If p then q;\", if_p)\n",
    "\n",
    "mp = ModusPonens(if_p, p)\n",
    "\n",
    "print(\"Modus Ponens\", \"is\" if (mp.get_application() is not None) else \"isn't\", \"applicable\")\n",
    "\n",
    "application = mp.apply()\n",
    "\n",
    "print(\"Modus Ponens gives\", application)\n",
    "print(\"Q is application:\", application == q)\n",
    "\n"
   ]
  },
  {
   "cell_type": "code",
   "execution_count": 5,
   "metadata": {},
   "outputs": [
    {
     "output_type": "stream",
     "name": "stdout",
     "text": [
      "p;           (A → B)\nnot q;       ¬(C ∨ D)\nIf p then q; ((A → B) → (C ∨ D))\nModus Tollens is applicable\nModus Tollens gives ¬(A → B)\nnot P is application: True\n"
     ]
    }
   ],
   "source": [
    "from Propositional.arguments import *\n",
    "\n",
    "PL = parse_logical\n",
    "\n",
    "p = PL(\"A implies B\")\n",
    "q = PL(\"C or D\")\n",
    "\n",
    "if_p = p >> q\n",
    "not_q = ~ q\n",
    "\n",
    "print(\"p;          \", p)\n",
    "print(\"not q;      \", not_q)\n",
    "print(\"If p then q;\", if_p)\n",
    "\n",
    "mt = ModusTollens(if_p, not_q)\n",
    "\n",
    "print(\"Modus Tollens\", \"is\" if (mp.get_application() is not None) else \"isn't\", \"applicable\")\n",
    "\n",
    "application = mt.apply()\n",
    "\n",
    "print(\"Modus Tollens gives\", application)\n",
    "print(\"not P is application:\", application == ~p)\n",
    "\n",
    "\n"
   ]
  },
  {
   "cell_type": "markdown",
   "metadata": {},
   "source": [
    "## Derivations\n",
    "\n",
    "### Direct Derivations\n",
    "\n",
    "By using a set of propositions as axioms, we can create derivations. For example, if we specify that `A` is true and `C` is false, then we can prove that if `A`, then; if `B` then `C`, then `B` must be false. \n"
   ]
  },
  {
   "cell_type": "code",
   "execution_count": 6,
   "metadata": {},
   "outputs": [
    {
     "output_type": "stream",
     "name": "stdout",
     "text": [
      "(A → (B → C)). A. ¬C ⊢ ¬B\nShow ¬B:\n| 1  (B → C)               mp pr2, pr1\n| 2  ¬B                    mt pr3, 1\n| 3                        dd 2\nQ.E.D.\n"
     ]
    }
   ],
   "source": [
    "from Propositional.derivations import *\n",
    "PL = parse_logical\n",
    "\n",
    "axioms = [\n",
    "    PL(\"A\"), PL(\"not C\"), PL(\"A implies (B implies C)\")\n",
    "]\n",
    "consequence = PL(\"not B\")\n",
    "\n",
    "derivation = [\n",
    "    ModusPonens(PL(\"A\"), PL(\"A implies (B implies C)\")),\n",
    "    ModusTollens(PL(\"not C\"), PL(\"B implies C\"))\n",
    "]\n",
    "\n",
    "dd = DirectDerivation(axioms, consequence, derivation)\n",
    "\n",
    "print(dd.verify())\n"
   ]
  },
  {
   "cell_type": "markdown",
   "metadata": {},
   "source": [
    "Derivations can also be conditional or indirect.\n",
    "\n",
    "### Conditional Derivations\n",
    "\n",
    "In a conditional derivation, the consequence is in the form `A → B`, and so instead of proving `P1, P2, ..., Pk ⊢ A → B`, we can prove `P1, P2, ..., Pk, A ⊢ B`, which is functionally the exact same derivation. When creating a conditional derivation, specify the axioms and consequence as usual for a direct derivation, but in the derivation list, assume that `A` is now part of the axioms, and the derivation should end with a line deriving `B`.\n",
    "\n"
   ]
  },
  {
   "cell_type": "code",
   "execution_count": 7,
   "metadata": {},
   "outputs": [
    {
     "output_type": "stream",
     "name": "stdout",
     "text": [
      "(¬A ∨ B) ⊢ (A → B)\nShow (A → B):\n| 1  A                     asm\n| 2  B                     mtp pr1, 1\n| 3                        cd 2\nQ.E.D.\n"
     ]
    }
   ],
   "source": [
    "from Propositional.derivations import *\n",
    "PL = parse_logical\n",
    "\n",
    "axioms = [\n",
    "    PL(\"(not A) or B\")\n",
    "]\n",
    "consequence = PL(\"A implies B\")\n",
    "\n",
    "derivation = [\n",
    "    ModusTollendoPonens(PL(\"(not A) or B\"), PL(\"A\"))\n",
    "]\n",
    "\n",
    "cd = ConditionalDerivation(axioms, consequence, derivation)\n",
    "\n",
    "print(cd.verify())\n",
    "\n"
   ]
  },
  {
   "cell_type": "markdown",
   "metadata": {},
   "source": [
    "\n",
    "### Indirect Derivations\n",
    "\n",
    "In an indirect derivation, we aim to show that the premises being true while the consequence is false leads to a contradiction. So instead of proving `P1, P2, ..., Pk ⊢ C`, we can prove `P1, P2, ..., Pk, ¬C ⊢ ⊥`, which is functionally the exact same derivation. When creating an indirect derivation, again, set up axioms and consequence as usual, but in the derivation, assume `¬C` is now part of the axioms, and the derivation should end with a contradiction object.\n",
    "\n"
   ]
  },
  {
   "cell_type": "code",
   "execution_count": 8,
   "metadata": {},
   "outputs": [
    {
     "output_type": "stream",
     "name": "stdout",
     "text": [
      "(A ∨ B) ⊢ ¬(¬A ∧ ¬B)\nShow ¬(¬A ∧ ¬B):\n| 1  ¬¬(¬A ∧ ¬B)           asm\n| 2  (¬A ∧ ¬B)             dn 1\n| 3  ¬A                    s 2\n| 4  ¬B                    s 2\n| 5  B                     mtp pr1, 3\n| 6  ⊥                     id 5, 4\nQ.E.D.\n"
     ]
    }
   ],
   "source": [
    "from Propositional.derivations import *\n",
    "PL = parse_logical\n",
    "\n",
    "axioms = [\n",
    "    PL(\"A or B\")\n",
    "]\n",
    "\n",
    "consequence = PL(\"not ((not A) and (not B))\")\n",
    "\n",
    "derivation = [\n",
    "    DoubleNegation(PL(\"not (not ((not A) and (not B)))\"), PL(\"(not A) and (not B)\")),\n",
    "    Simplification(PL(\"(not A) and (not B)\"), PL(\"not A\")),\n",
    "    Simplification(PL(\"(not A) and (not B)\"), PL(\"not B\")),\n",
    "    ModusTollendoPonens(PL(\"A or B\"), PL(\"not A\")),\n",
    "    Contradiction(PL(\"B\"), PL(\"not B\"))\n",
    "]\n",
    "\n",
    "id_ = IndirectDerivation(axioms, consequence, derivation)\n",
    "\n",
    "print(id_.verify())\n",
    "\n",
    "\n"
   ]
  },
  {
   "cell_type": "markdown",
   "metadata": {},
   "source": [
    "As you might recognize, the conditional derivation was part of the more complex derivation, one for the derivation of `((¬A ∨ B) ↔ (A → B))`, the material equivalence of the disjunction of the negation of the antecedent, and of the consequence, with the implication. The indirect derivation above was again similarly part of a more complex derivation, that of `((A ∨ B) ↔ ¬(¬A ∧ ¬B))`, one version of De Morgan's Laws.\n",
    "\n",
    "### Subderivations\n",
    "\n",
    "As noted, it is oftentimes necessary to nest derivations within each other. For example to prove `A ↔ B`, one must independently prove `A → B` and `B → A`. Therefore instead of basic arguments, we can use 'derived arguments', in the form of subderivations. We can create these from normal derivations of any variety, and can be used in larger derivations as long as the subderivation's axioms / assumptions have all been previously derived. In this case, as long as the subderivation is valid, the consequence of the subderivation is introduced as a new derivation. \n",
    "\n"
   ]
  },
  {
   "cell_type": "code",
   "execution_count": 9,
   "metadata": {},
   "outputs": [
    {
     "output_type": "stream",
     "name": "stdout",
     "text": [
      " ⊢ ((A → B) → (¬A ∨ B))\nShow ((A → B) → (¬A ∨ B)):\n| 1  (A → B)               asm\n| 2  Show (¬A ∨ B):        \n|    | 3  ¬(¬A ∨ B)        asm\n|    | 4  Show (A → (¬A ∨ B)):\n|    |    | 5  A           asm\n|    |    | 6  B           mp 1, 5\n|    |    | 7  (¬A ∨ B)    a 6\n|    |    | 8              cd 7\n|    | 9  Show (¬A → (¬A ∨ B)):\n|    |    | 10 ¬A          asm\n|    |    | 11 (¬A ∨ B)    a 10\n|    |    | 12             cd 11\n|    | 13 (A ∨ ¬A)         TND\n|    | 14 (¬A ∨ B)         DE 13, 4, 9\n|    | 15                  id 14\n| 16                       cd 2\nQ.E.D.\n"
     ]
    }
   ],
   "source": [
    "from Propositional.theorem import *\n",
    "PL = parse_logical\n",
    "\n",
    "# initialize the derivation. The overall form is of P -> Q, with P = A implies B and Q = (not A) or B\n",
    "\n",
    "axioms = []\n",
    "consequences = PL(\"(A implies B) implies ((not A) or B)\")\n",
    "derivation = []\n",
    "\n",
    "dd = ConditionalDerivation(\n",
    "    axioms=[],\n",
    "    consequence=PL(\"(A implies B) implies ((not A) or B)\"),\n",
    "    derivation=[\n",
    "        # Assume A -> B\n",
    "        # Show ((not A) or B)\n",
    "        IndirectDerivation(\n",
    "            # Assume ~((not A) or B)\n",
    "            axioms=[], \n",
    "            consequence=PL(\"((not A) or B)\"), \n",
    "            derivation=[\n",
    "                ConditionalDerivation(\n",
    "                    # Show A -> ((not A) or B)\n",
    "                    # Assume A\n",
    "                    axioms=[], \n",
    "                    consequence=PL(\"A implies ((not A) or B)\"), \n",
    "                    derivation=[\n",
    "                        ModusPonens(PL(\"A implies B\"), PL(\"A\")),\n",
    "                        Addition(PL(\"B\"), PL(\"((not A) or B)\"))\n",
    "                    ]\n",
    "                ),\n",
    "                ConditionalDerivation(\n",
    "                    # Show ~A -> ((not A) or B)\n",
    "                    # Assume ~A\n",
    "                    axioms=[], \n",
    "                    consequence=PL(\"(not A) implies ((not A) or B)\"), \n",
    "                    derivation=[\n",
    "                        Addition(PL(\"not A\"), PL(\"((not A) or B)\"))\n",
    "                    ]\n",
    "                ),\n",
    "                TertiumNonDatur(therefore=PL(\"A or (not A)\")),\n",
    "                DisjunctionElimination(PL(\"A or (not A)\"), PL(\"A implies ((not A) or B)\"), PL(\"(not A) implies ((not A) or B)\"), therefore=PL(\"(not A) or B\"))\n",
    "            ]\n",
    "        )\n",
    "    ]\n",
    ")\n",
    "\n",
    "# verify the proof.\n",
    "print(dd.verify())\n"
   ]
  },
  {
   "cell_type": "markdown",
   "metadata": {
    "tags": []
   },
   "source": [
    "## Basic Arguments\n",
    "\n",
    "There are a set of natural deductions, such as Modus Ponens, Modus Tollens, etc., but also a set of basic arguments which are commonly known but are quite useful to cut down on the length and complexity of longer proofs. Therefore we can define basic arguments as a valid derivation paired with an argument name."
   ]
  },
  {
   "cell_type": "markdown",
   "metadata": {},
   "source": [
    "## Basic Search\n",
    "\n",
    "Currently there is functionality to solve certain simple derivations that require no contradictions or subderivations. As this project progresses, more and more derivations will be solvable through this tool.\n"
   ]
  },
  {
   "cell_type": "code",
   "execution_count": 10,
   "metadata": {
    "jupyter": {
     "source_hidden": true
    },
    "tags": []
   },
   "outputs": [
    {
     "output_type": "stream",
     "name": "stdout",
     "text": [
      "Handwritten Proof\n",
      "---------\n",
      "  (A → (B → C)). A. ¬C ⊢ ¬B\n",
      "  Show ¬B:\n",
      "  | 1  (B → C)               mp pr2, pr1\n",
      "  | 2  ¬B                    mt 1, pr3\n",
      "  | 3                        dd 2\n",
      "  Q.E.D.\n",
      "---------\n",
      "Component not in environment (B → C)\n",
      "---------\n",
      "Computer Generated Proof\n",
      "---------\n",
      "  (A → (B → C)). A. ¬C ⊢ ¬B\n",
      "  Show ¬B:\n",
      "  | 1  (B → C)               mp pr2, pr1\n",
      "  | 2  ¬B                    mt pr3, 1\n",
      "  | 3                        dd 2\n",
      "  Q.E.D.\n",
      "---------\n",
      "---------\n",
      "Handwritten Proof\n",
      "---------\n",
      "  (A → B). (B → C) ⊢ (A → C)\n",
      "  Show (A → C):\n",
      "  | 1  A                     asm\n",
      "  | 2  B                     mp 1, pr1\n",
      "  | 3  C                     mp 2, pr2\n",
      "  | 4                        cd 3\n",
      "  Q.E.D.\n",
      "---------\n",
      "Component not in environment B\n",
      "---------\n",
      "Computer Generated Proof\n",
      "---------\n",
      "  (A → B). (B → C) ⊢ (A → C)\n",
      "  Show (A → C):\n",
      "  | 1  A                     asm\n",
      "  | 2  B                     mp 1, pr1\n",
      "  | 3  C                     mp pr2, 2\n",
      "  | 4                        cd 3\n",
      "  Q.E.D.\n",
      "---------\n",
      "---------\n"
     ]
    }
   ],
   "source": [
    "from Propositional.search import *\n",
    "PL = parse_logical\n",
    "\n",
    "axiom_sets = [\n",
    "    [\n",
    "        PL(\"A\"), PL(\"not C\"), PL(\"(A implies (B implies C))\")\n",
    "    ],\n",
    "    [\n",
    "        PL(\"A implies B\"), PL(\"B implies C\")\n",
    "    ]\n",
    "\n",
    "]\n",
    "consequence_set = [\n",
    "    PL(\"not B\"),\n",
    "    PL(\"A implies C\")\n",
    "]\n",
    "\n",
    "derivation_sets = [\n",
    "    [\n",
    "        ModusPonens(PL(\"A\"), PL(\"(A implies (B implies C))\")),\n",
    "        ModusTollens(PL(\"B implies C\"), PL(\"not C\"))\n",
    "    ],\n",
    "    [\n",
    "        ModusPonens(PL(\"A\"), PL(\"A implies B\")),\n",
    "        ModusPonens(PL(\"B\"), PL(\"B implies C\"))\n",
    "    ]\n",
    "]\n",
    "\n",
    "for axiom, consequence, derivation in zip(axiom_sets, consequence_set, derivation_sets):\n",
    "    derivation_type = DirectDerivation\n",
    "    if type(consequence) is LOGICAL_CONNECTIVES['implies']:\n",
    "        derivation_type = ConditionalDerivation\n",
    "\n",
    "    p1 = derivation_type(\n",
    "        axiom,\n",
    "        consequence,\n",
    "        derivation\n",
    "    )\n",
    "\n",
    "    print(\"Handwritten Proof\")\n",
    "    print(\"---------\")\n",
    "\n",
    "    print(\"\\n  \".join([\"\"] + (p1verification := p1.verify()).split(\"\\n\"))[1:])\n",
    "    print(\"---------\")\n",
    "\n",
    "    bfs = BFSDirectDerivation(\n",
    "        axiom,\n",
    "        consequence\n",
    "    )\n",
    "\n",
    "    derivation2 = bfs.search()\n",
    "\n",
    "    p2 = derivation_type(\n",
    "        axiom,\n",
    "        consequence,\n",
    "        derivation2\n",
    "    )\n",
    "\n",
    "    print(\"---------\")\n",
    "    print(\"Computer Generated Proof\")\n",
    "    print(\"---------\")\n",
    "\n",
    "    print(\"\\n  \".join([\"\"] + (p2verification := p2.verify()).split(\"\\n\"))[1:])\n",
    "    print(\"---------\")\n",
    "\n",
    "    # print(f\"Proof is identical: {p1verification == p2verification}\")\n",
    "    print(\"---------\")\n",
    "\n",
    "\n"
   ]
  },
  {
   "source": [
    "## Proposition Simplification\n",
    "\n",
    "It may turn out that a particular result, but through various techniques we can simplify logical propositions.\n",
    "\n",
    "### Karnaugh Simplification\n",
    "\n",
    "Using the idea of min-terms and max-terms, and using the sum-of-min-terms and product-of-max-terms, we can start with a basic way of breaking down the logical proposition. Then, (Not implemented yet) we can simplify each term as it progresses through to create a much more simplified statement, all in terms of conjunctions and disjunctions.\n",
    "\n",
    "### Breadth First Search\n",
    "\n",
    "Using breath first search with pruning using a priority queue, we can simplify much further than Karnaugh maps for many cases. During breadth first search, at each expanded node, we check if the expanded proposition is logically equivalent to the proposition we're simplifying. If so, we return it. Otherwise, we create conjunctions, disjunctions, material implications, material equivalence, and negations of the expanded node with any of the previously expanded nodes, and provided the length of the string representation is not larger than the length of the string representation of the proposition we start with, we add it to the list of propositions to be expanded upon. \n"
   ],
   "cell_type": "code",
   "metadata": {
    "tags": []
   },
   "execution_count": null,
   "outputs": []
  },
  {
   "cell_type": "code",
   "execution_count": 11,
   "metadata": {
    "jupyter": {
     "source_hidden": true
    },
    "tags": []
   },
   "outputs": [
    {
     "output_type": "stream",
     "name": "stdout",
     "text": [
      "------------------------------------------------------------\n",
      "------------------------------------------------------------\n",
      "Proposition to simplify: (¬A ∨ B)\n",
      "--------------------------------------------------\n",
      "\n",
      "BFS |████████████████████████████████████████████████████████████████████████████████████████████████████| 100.0%  / considered = 7 (T=0.0051772594)\n",
      "\n",
      "+----------------\n",
      "| Diagnostics\n",
      "+----------------\n",
      "| Starting proposition: (¬A ∨ B)\n",
      "| Ending proposition: (A → B)\n",
      "| Considered 7 propositions.\n",
      "| Pruned 72.\n",
      "| Took 0.005575 seconds.\n",
      "+----------------\n",
      "------------------------------------------------------------\n",
      "------------------------------------------------------------\n",
      "Proposition to simplify: (P → (Q → R))\n",
      "--------------------------------------------------\n",
      "\n",
      "BFS |████████████████████████████████████████████████████████████████████████████████████████████████████| 100.0%  / considered = 156 (T=3.9977479)\n",
      "\n",
      "+----------------\n",
      "| Diagnostics\n",
      "+----------------\n",
      "| Starting proposition: (P → (Q → R))\n",
      "| Ending proposition: (P → (Q → R))\n",
      "| Considered 156 propositions.\n",
      "| Pruned 60375.\n",
      "| Took 3.998 seconds.\n",
      "+----------------\n",
      "------------------------------------------------------------\n",
      "------------------------------------------------------------\n",
      "Proposition to simplify: ((X → Y) → (Y → (Z ∨ W)))\n",
      "--------------------------------------------------\n",
      "\n",
      "BFS |████████████████████████████████████████████████████████████████████████████████████████████████████| 100.0%  / considered = 198 (T=8.627588)\n",
      "\n",
      "+----------------\n",
      "| Diagnostics\n",
      "+----------------\n",
      "| Starting proposition: ((X → Y) → (Y → (Z ∨ W)))\n",
      "| Ending proposition: (W ∨ (Y → Z))\n",
      "| Considered 198 propositions.\n",
      "| Pruned 35375.\n",
      "| Took 8.628 seconds.\n",
      "+----------------\n"
     ]
    }
   ],
   "source": [
    "from Propositional.simplify import *\n",
    "\n",
    "PL = parse_logical\n",
    "\n",
    "\"\"\" \n",
    "Try running this on your local machine! See how long it takes your computer to run this code!\n",
    "\"\"\"\n",
    "\n",
    "props = [\n",
    "    PL(\"((not A) or B)\"),\n",
    "    PL(\"(P implies (Q implies R))\"),\n",
    "    PL(\"((X implies Y) implies (Y implies (Z or W)))\"),\n",
    "]\n",
    "\n",
    "for prop in props:\n",
    "    print(\"-\"*60)\n",
    "    print(\"-\"*60)\n",
    "\n",
    "    print(f\"Proposition to simplify: {prop}\")\n",
    "\n",
    "    # v = True, False, or 'progress bar'\n",
    "    v = 'progress bar'\n",
    "    other = True\n",
    "\n",
    "    print(\"-\"*50)\n",
    "\n",
    "    bfs = BFS(prop)\n",
    "    bfs.simplify(verbose=v)\n",
    "    diagnostics = bfs.diagnostics\n",
    "    solution_no_filter = diagnostics.simplification\n",
    "    print(diagnostics)\n",
    "\n"
   ]
  },
  {
   "cell_type": "code",
   "execution_count": null,
   "metadata": {},
   "outputs": [],
   "source": []
  }
 ],
 "metadata": {
  "kernelspec": {
   "display_name": "Python 3",
   "language": "python",
   "name": "python3"
  },
  "language_info": {
   "codemirror_mode": {
    "name": "ipython",
    "version": 3
   },
   "file_extension": ".py",
   "mimetype": "text/x-python",
   "name": "python",
   "nbconvert_exporter": "python",
   "pygments_lexer": "ipython3",
   "version": "3.9.0-final"
  }
 },
 "nbformat": 4,
 "nbformat_minor": 4
}